{
 "cells": [
  {
   "cell_type": "markdown",
   "metadata": {},
   "source": [
    "## Mostrar informações\n",
    "### Comando `print()`"
   ]
  },
  {
   "cell_type": "code",
   "execution_count": 11,
   "metadata": {},
   "outputs": [
    {
     "name": "stdout",
     "output_type": "stream",
     "text": [
      "Semana do Python na prática\n",
      "Eu quero aprender python de verdade\n"
     ]
    }
   ],
   "source": [
    "print(\"Semana do Python na prática\")\n",
    "print(\"Eu quero aprender python de verdade\")"
   ]
  },
  {
   "cell_type": "markdown",
   "metadata": {},
   "source": [
    "## Receber dados do usuário\n",
    "### Comando `input()`"
   ]
  },
  {
   "cell_type": "markdown",
   "metadata": {},
   "source": [
    "### Teste"
   ]
  },
  {
   "cell_type": "markdown",
   "metadata": {},
   "source": [
    "código `print(\"aqui\")`"
   ]
  },
  {
   "cell_type": "code",
   "execution_count": 12,
   "metadata": {},
   "outputs": [
    {
     "data": {
      "text/plain": [
       "'ag'"
      ]
     },
     "execution_count": 12,
     "metadata": {},
     "output_type": "execute_result"
    }
   ],
   "source": [
    "input(\"Digite seu nome: \")\n",
    "input(\"Qual melhor linguagem de programação do mundo: \")"
   ]
  },
  {
   "cell_type": "markdown",
   "metadata": {},
   "source": [
    "## Armazenar dados em variáveis\n",
    "* Case sensitive\n",
    "* use nomes que façam sentido\n",
    "* não pode começar com números\n",
    "* não pode conter espaços em branco"
   ]
  },
  {
   "cell_type": "code",
   "execution_count": 13,
   "metadata": {},
   "outputs": [],
   "source": [
    "projeto = \"Sistema Python\"\n",
    "numero = 10\n",
    "sub_titulo = \"Python na prática\""
   ]
  },
  {
   "cell_type": "markdown",
   "metadata": {},
   "source": [
    "#### Mesclando todos os conceitos aprendidos"
   ]
  },
  {
   "cell_type": "code",
   "execution_count": 1,
   "metadata": {},
   "outputs": [],
   "source": [
    "projeto = input(\"Digite a descrição do projeto: \")\n",
    "horas_previstas = input(\"Digite a quantidade de horas previstas: \")\n",
    "valor_hora = input(\"Digite o valor da hora trabalhada: \")\n",
    "prazo = input(\"Digite o prazo estimado: \")"
   ]
  },
  {
   "cell_type": "code",
   "execution_count": 2,
   "metadata": {},
   "outputs": [
    {
     "name": "stdout",
     "output_type": "stream",
     "text": [
      "Desenvolvimento Python\n",
      "200\n",
      "100\n",
      "3 meses\n"
     ]
    }
   ],
   "source": [
    "print(projeto)\n",
    "print(horas_previstas)\n",
    "print(valor_hora)\n",
    "print(prazo)"
   ]
  },
  {
   "cell_type": "code",
   "execution_count": 16,
   "metadata": {},
   "outputs": [
    {
     "name": "stdout",
     "output_type": "stream",
     "text": [
      "Valor do projeto R$ 20000,00\n"
     ]
    }
   ],
   "source": [
    "valor_projeto = int(horas_previstas) * int(valor_hora)\n",
    "print(\"Valor do projeto R$ \"+str(valor_projeto)+\",00\")\n",
    "# print(valor_projeto)"
   ]
  },
  {
   "cell_type": "markdown",
   "metadata": {},
   "source": [
    "#### Convertendo em Moeda R$"
   ]
  },
  {
   "cell_type": "code",
   "execution_count": 30,
   "metadata": {},
   "outputs": [
    {
     "name": "stdout",
     "output_type": "stream",
     "text": [
      "Valor total do projeto: \n",
      "R$ 20.000,00\n"
     ]
    }
   ],
   "source": [
    "import locale\n",
    "\n",
    "# Configura a localização para Português do Brasil\n",
    "locale.setlocale(locale.LC_ALL, 'pt_BR.UTF-8')\n",
    "\n",
    "# Função para formatar o número como moeda brasileira\n",
    "def formatar_real(valor):\n",
    "    return locale.currency(valor, grouping=True)\n",
    "\n",
    "# Exemplo de uso\n",
    "# numero = 2000\n",
    "valor_projeto_formatado = formatar_real(valor_projeto)\n",
    "print(\"Valor total do projeto: \")\n",
    "print(valor_projeto_formatado)\n"
   ]
  },
  {
   "cell_type": "markdown",
   "metadata": {},
   "source": [
    "#### Saber o tipo"
   ]
  },
  {
   "cell_type": "code",
   "execution_count": 35,
   "metadata": {},
   "outputs": [
    {
     "data": {
      "text/plain": [
       "str"
      ]
     },
     "execution_count": 35,
     "metadata": {},
     "output_type": "execute_result"
    }
   ],
   "source": [
    "type(formatted_numero)"
   ]
  },
  {
   "cell_type": "markdown",
   "metadata": {},
   "source": [
    "#### Instalando pacote pdf"
   ]
  },
  {
   "cell_type": "code",
   "execution_count": 24,
   "metadata": {},
   "outputs": [],
   "source": [
    "#!pip install fpdf"
   ]
  },
  {
   "cell_type": "code",
   "execution_count": 26,
   "metadata": {},
   "outputs": [],
   "source": [
    "# importa pacote\n",
    "from fpdf import FPDF"
   ]
  },
  {
   "cell_type": "code",
   "execution_count": 34,
   "metadata": {},
   "outputs": [
    {
     "name": "stdout",
     "output_type": "stream",
     "text": [
      "Orçamento gerado com sucesso!\n"
     ]
    },
    {
     "data": {
      "text/plain": [
       "''"
      ]
     },
     "execution_count": 34,
     "metadata": {},
     "output_type": "execute_result"
    }
   ],
   "source": [
    "# cria o pdf vazio\n",
    "pdf = FPDF()\n",
    "\n",
    "pdf.add_page()\n",
    "pdf.set_font(\"Arial\")\n",
    "\n",
    "pdf.image(\"template.png\", x=0, y=0)\n",
    "\n",
    "#coordenadas x e y + texto\n",
    "pdf.text(115, 145, projeto)\n",
    "pdf.text(115, 160, horas_previstas)\n",
    "pdf.text(115, 175, valor_hora)\n",
    "pdf.text(115, 190, prazo)\n",
    "pdf.text(115, 205, valor_projeto_formatado)\n",
    "\n",
    "print(\"Orçamento gerado com sucesso!\")\n",
    "pdf.output(\"Orçamento.pdf\")\n"
   ]
  }
 ],
 "metadata": {
  "kernelspec": {
   "display_name": "base",
   "language": "python",
   "name": "python3"
  },
  "language_info": {
   "codemirror_mode": {
    "name": "ipython",
    "version": 3
   },
   "file_extension": ".py",
   "mimetype": "text/x-python",
   "name": "python",
   "nbconvert_exporter": "python",
   "pygments_lexer": "ipython3",
   "version": "3.11.7"
  }
 },
 "nbformat": 4,
 "nbformat_minor": 2
}
